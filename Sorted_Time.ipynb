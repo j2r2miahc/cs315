{
  "nbformat": 4,
  "nbformat_minor": 0,
  "metadata": {
    "colab": {
      "provenance": [],
      "authorship_tag": "ABX9TyPIFITw61xRbO0lvRBw1/BM",
      "include_colab_link": true
    },
    "kernelspec": {
      "name": "python3",
      "display_name": "Python 3"
    },
    "language_info": {
      "name": "python"
    }
  },
  "cells": [
    {
      "cell_type": "markdown",
      "metadata": {
        "id": "view-in-github",
        "colab_type": "text"
      },
      "source": [
        "<a href=\"https://colab.research.google.com/github/j2r2miahc/cs315/blob/main/Sorted_Time.ipynb\" target=\"_parent\"><img src=\"https://colab.research.google.com/assets/colab-badge.svg\" alt=\"Open In Colab\"/></a>"
      ]
    },
    {
      "cell_type": "code",
      "source": [
        "def selection(A,print_flag):\n",
        "\n",
        "\n",
        "# for your convenience, the psuedocode from class is provided, and note that you don't really need line 1, you can handle that in the outer for loop statement\n",
        "#n = length[A]\n",
        "#for i=1 to n-1:\n",
        "#   smallest = i\n",
        "#   for j=i+1 to n:\n",
        "#      if A[smallest] > A[j]\n",
        "#         then smallest = j\n",
        "#   Swap A[i] with A[smallest]\n",
        "\n",
        "  n = len(A)\n",
        "  for i in range(n-1):\n",
        "        smallest = i\n",
        "        for j in range(i+1, n):\n",
        "            if A[smallest] > A[j]:\n",
        "                smallest = j\n",
        "        A[i], A[smallest] = A[smallest], A[i]"
      ],
      "metadata": {
        "id": "ct33VnXqxn9z"
      },
      "execution_count": null,
      "outputs": []
    },
    {
      "cell_type": "code",
      "source": [
        "import random\n",
        "N=8\n",
        "A = list(range(N))\n",
        "\n",
        "random.shuffle(A)\n",
        "\n",
        "print(A)\n",
        "selection(A,True)\n",
        "print(A)"
      ],
      "metadata": {
        "colab": {
          "base_uri": "https://localhost:8080/"
        },
        "id": "BDteldt-xjOK",
        "outputId": "33b45337-f0b3-46ae-f0af-cd63cba22921"
      },
      "execution_count": null,
      "outputs": [
        {
          "output_type": "stream",
          "name": "stdout",
          "text": [
            "[5, 6, 0, 7, 2, 1, 3, 4]\n",
            "[0, 1, 2, 3, 4, 5, 6, 7]\n"
          ]
        }
      ]
    },
    {
      "cell_type": "code",
      "source": [
        "import time\n",
        "\n",
        "def time_algorithm(sort_function, data):\n",
        "    start = time.time() # record start time\n",
        "    sort_function(data.copy(), False)\n",
        "    return time.time() - start # return the time it took\n",
        "\n",
        "print(\"Timing on Sorted Data:\")\n",
        "print(\"N\\tTime(s)\\tRatio\")\n",
        "\n",
        "prev = None # store the previous runtime\n",
        "for N in [500, 1000, 2000, 4000]: # Loop over different input sizes\n",
        "    t = time_algorithm(selection, list(range(N)))\n",
        "    if prev is None: # measure sorting time\n",
        "        ratio = \"-\"\n",
        "    else:\n",
        "        ratio = t / prev\n",
        "        ratio = f\"{ratio:.2f}\"\n",
        "    print(f\"{N}\\t{t:.6f}\\t{ratio}\") # Print results for this N\n",
        "    prev = t # update previous runtime for next loop"
      ],
      "metadata": {
        "colab": {
          "base_uri": "https://localhost:8080/"
        },
        "id": "lyaT5FSvxThD",
        "outputId": "60a82ca0-c429-49e7-e6d5-a3a2c460be49"
      },
      "execution_count": null,
      "outputs": [
        {
          "output_type": "stream",
          "name": "stdout",
          "text": [
            "Selection Sort Timing on Sorted Data:\n",
            "N\tTime(s)\tRatio\n",
            "500\t0.004099\t-\n",
            "1000\t0.016652\t4.06\n",
            "2000\t0.065078\t3.91\n",
            "4000\t0.260602\t4.00\n"
          ]
        }
      ]
    },
    {
      "cell_type": "markdown",
      "source": [
        "Sorted() and .sort() run about Θ(n log n) on random data. Sorted data looks like it runs faster"
      ],
      "metadata": {
        "id": "Ngc3VRd82EWz"
      }
    }
  ]
}