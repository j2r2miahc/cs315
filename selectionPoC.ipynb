{
  "nbformat": 4,
  "nbformat_minor": 0,
  "metadata": {
    "colab": {
      "provenance": [],
      "include_colab_link": true
    },
    "kernelspec": {
      "name": "python3",
      "display_name": "Python 3"
    },
    "language_info": {
      "name": "python"
    }
  },
  "cells": [
    {
      "cell_type": "markdown",
      "metadata": {
        "id": "view-in-github",
        "colab_type": "text"
      },
      "source": [
        "<a href=\"https://colab.research.google.com/github/j2r2miahc/cs315/blob/main/selectionPoC.ipynb\" target=\"_parent\"><img src=\"https://colab.research.google.com/assets/colab-badge.svg\" alt=\"Open In Colab\"/></a>"
      ]
    },
    {
      "cell_type": "code",
      "execution_count": null,
      "metadata": {
        "id": "tZGwopH4Y7oL"
      },
      "outputs": [],
      "source": [
        "# Template for testing Selection Sort on small lists, outputing each intermediate step"
      ]
    },
    {
      "cell_type": "code",
      "source": [
        "import random"
      ],
      "metadata": {
        "id": "fSME9MywceAq"
      },
      "execution_count": null,
      "outputs": []
    },
    {
      "cell_type": "code",
      "source": [
        "def selection(A,print_flag):\n",
        "\n",
        "\n",
        "# for your convenience, the psuedocode from class is provided, and note that you don't really need line 1, you can handle that in the outer for loop statement\n",
        "#n = length[A]\n",
        "#for i=1 to n-1:\n",
        "#   smallest = i\n",
        "#   for j=i+1 to n:\n",
        "#      if A[smallest] > A[j]\n",
        "#         then smallest = j\n",
        "#   Swap A[i] with A[smallest]\n",
        "\n",
        "  n = len(A)\n",
        "  for i in range(n-1):\n",
        "        smallest = i\n",
        "        for j in range(i+1, n):\n",
        "            if A[smallest] > A[j]:\n",
        "                smallest = j\n",
        "        A[i], A[smallest] = A[smallest], A[i]"
      ],
      "metadata": {
        "id": "TJZL4jFQZhAp"
      },
      "execution_count": null,
      "outputs": []
    },
    {
      "cell_type": "code",
      "source": [
        "import random\n",
        "N=8\n",
        "A = list(range(N))\n",
        "\n",
        "random.shuffle(A)\n",
        "\n",
        "print(A)\n",
        "selection(A,True)\n",
        "print(A)"
      ],
      "metadata": {
        "id": "f1GS3NjwZqmS",
        "colab": {
          "base_uri": "https://localhost:8080/"
        },
        "outputId": "55307977-0916-49f2-ac07-84007f417f4e"
      },
      "execution_count": null,
      "outputs": [
        {
          "output_type": "stream",
          "name": "stdout",
          "text": [
            "[1, 7, 2, 0, 3, 5, 6, 4]\n",
            "Step 1: [0, 7, 2, 1, 3, 5, 6, 4]\n",
            "Step 2: [0, 1, 2, 7, 3, 5, 6, 4]\n",
            "Step 3: [0, 1, 2, 7, 3, 5, 6, 4]\n",
            "Step 4: [0, 1, 2, 3, 7, 5, 6, 4]\n",
            "Step 5: [0, 1, 2, 3, 4, 5, 6, 7]\n",
            "Step 6: [0, 1, 2, 3, 4, 5, 6, 7]\n",
            "Step 7: [0, 1, 2, 3, 4, 5, 6, 7]\n",
            "[0, 1, 2, 3, 4, 5, 6, 7]\n"
          ]
        }
      ]
    }
  ]
}